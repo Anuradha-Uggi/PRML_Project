{
  "nbformat": 4,
  "nbformat_minor": 0,
  "metadata": {
    "colab": {
      "name": "prml_Strides.ipynb",
      "provenance": [],
      "collapsed_sections": []
    },
    "kernelspec": {
      "name": "python3",
      "display_name": "Python 3"
    },
    "language_info": {
      "name": "python"
    }
  },
  "cells": [
    {
      "cell_type": "code",
      "metadata": {
        "colab": {
          "base_uri": "https://localhost:8080/"
        },
        "id": "5HI3S-JZ1Yj7",
        "outputId": "e970d6c3-4cb3-4f96-ae23-deb4d40ff592"
      },
      "source": [
        "from google.colab import drive\n",
        "drive.mount('/content/drive',force_remount=True)"
      ],
      "execution_count": null,
      "outputs": [
        {
          "output_type": "stream",
          "text": [
            "Mounted at /content/drive\n"
          ],
          "name": "stdout"
        }
      ]
    },
    {
      "cell_type": "code",
      "metadata": {
        "id": "aS4k-qoEeYN7"
      },
      "source": [
        "1)observe the saturation of layers for 10 epochs and 64 batch size:only conv layers and next dense layers as well\n",
        "2)remove max pool and observe & chnage the max pool to avg pool\n",
        "3)add early stop or drop out and observe\n",
        "2)vary filters (increase and decrease and same) in single layer\n",
        "3)vary filters in increasing and decreasing and same for sturatable layers\n",
        "4)vary filter sizes\n",
        "5)batch size for one layer\n",
        "6)epochs for 1 layer\n",
        "7)\n"
      ],
      "execution_count": null,
      "outputs": []
    },
    {
      "cell_type": "code",
      "metadata": {
        "colab": {
          "base_uri": "https://localhost:8080/"
        },
        "id": "JGq7edQJ1lhx",
        "outputId": "5c7a9608-d630-4b80-cb6d-8dedea652e49"
      },
      "source": [
        " %pip install idx2numpy  #To convert standard IDX format MNIST by \"yan Lacun\" into numpy array"
      ],
      "execution_count": null,
      "outputs": [
        {
          "output_type": "stream",
          "text": [
            "Collecting idx2numpy\n",
            "  Downloading https://files.pythonhosted.org/packages/7e/6b/80628f6cc2f44d80b27f1ef7b57b257ed4c73766113b77d13ad110c091b4/idx2numpy-1.2.3.tar.gz\n",
            "Requirement already satisfied: numpy in /usr/local/lib/python3.7/dist-packages (from idx2numpy) (1.19.5)\n",
            "Requirement already satisfied: six in /usr/local/lib/python3.7/dist-packages (from idx2numpy) (1.15.0)\n",
            "Building wheels for collected packages: idx2numpy\n",
            "  Building wheel for idx2numpy (setup.py) ... \u001b[?25l\u001b[?25hdone\n",
            "  Created wheel for idx2numpy: filename=idx2numpy-1.2.3-cp37-none-any.whl size=7920 sha256=6a7578049df05351998920ebe28f99012975bca89b72aa5e1db11dfca121ad08\n",
            "  Stored in directory: /root/.cache/pip/wheels/7a/c1/da/284ce80a748fab898b8d1fa95468a386e7cf3b81da18511f9d\n",
            "Successfully built idx2numpy\n",
            "Installing collected packages: idx2numpy\n",
            "Successfully installed idx2numpy-1.2.3\n"
          ],
          "name": "stdout"
        }
      ]
    },
    {
      "cell_type": "code",
      "metadata": {
        "id": "xwxJVV7k2CZp"
      },
      "source": [
        " \n",
        "import pandas\n",
        "from keras.models import Sequential #swquential is for plain stack of layers with each having one i/p and one o/p\n",
        "from keras.layers import Dense\n",
        "#from keras.wrappers.scikit_learn import KerasClassifier\n",
        "from keras.utils import np_utils\n",
        "from sklearn.model_selection import cross_val_score\n",
        "from sklearn.model_selection import KFold\n",
        "from sklearn.preprocessing import LabelEncoder\n",
        "from sklearn.pipeline import Pipeline\n",
        "from keras.layers import Dense, Dropout, Flatten\n",
        "from keras.layers import Conv2D, MaxPooling2D"
      ],
      "execution_count": null,
      "outputs": []
    },
    {
      "cell_type": "code",
      "metadata": {
        "colab": {
          "base_uri": "https://localhost:8080/"
        },
        "id": "0mqxKt9j2ENJ",
        "outputId": "1ffbeb31-1fb4-41ef-e10b-e48c81374d7f"
      },
      "source": [
        " import idx2numpy\n",
        "import numpy as np\n",
        "import matplotlib.pyplot as plt\n",
        "from numpy import linalg as LA\n",
        " \n",
        "X_train = idx2numpy.convert_from_file('/content/drive/MyDrive/balancedMNIST/emnist-balanced-train-images-idx3-ubyte')### 60k training images each with 784 pixel elements \n",
        "Y_train = idx2numpy.convert_from_file('/content/drive/MyDrive/balancedMNIST/emnist-balanced-train-labels-idx1-ubyte')#### labels--digits for each training image among 60k\n",
        "X_test=idx2numpy.convert_from_file('/content/drive/MyDrive/balancedMNIST/emnist-balanced-test-images-idx3-ubyte')\n",
        "Y_test=idx2numpy.convert_from_file('/content/drive/MyDrive/balancedMNIST/emnist-balanced-test-labels-idx1-ubyte')\n",
        " \n",
        " \n",
        "print('\\ntrain images:',X_train.shape)\n",
        "print('train labels:',Y_train.shape)\n",
        "print('test images:',X_test.shape)\n",
        "print('test labels:',Y_test.shape)"
      ],
      "execution_count": null,
      "outputs": [
        {
          "output_type": "stream",
          "text": [
            "\n",
            "train images: (112800, 28, 28)\n",
            "train labels: (112800,)\n",
            "test images: (18800, 28, 28)\n",
            "test labels: (18800,)\n"
          ],
          "name": "stdout"
        }
      ]
    },
    {
      "cell_type": "code",
      "metadata": {
        "id": "eSZxrg-O2L_5"
      },
      "source": [
        "X_train=X_train.reshape((X_train.shape[0],28,28,1)).astype('float32')\n",
        "X_test=X_test.reshape((X_test.shape[0],28,28,1)).astype('float32')"
      ],
      "execution_count": null,
      "outputs": []
    },
    {
      "cell_type": "code",
      "metadata": {
        "colab": {
          "base_uri": "https://localhost:8080/"
        },
        "id": "55jrdFGp2Pm-",
        "outputId": "2e8ea698-7a77-4661-dd4b-1c80059e0010"
      },
      "source": [
        " y_1hot=np_utils.to_categorical(Y_train)\n",
        "print(y_1hot)\n",
        "y_1hotTest=np_utils.to_categorical(Y_test)"
      ],
      "execution_count": null,
      "outputs": [
        {
          "output_type": "stream",
          "text": [
            "[[0. 0. 0. ... 0. 1. 0.]\n",
            " [0. 0. 0. ... 0. 0. 0.]\n",
            " [0. 0. 0. ... 0. 0. 0.]\n",
            " ...\n",
            " [0. 0. 0. ... 0. 0. 0.]\n",
            " [0. 0. 0. ... 0. 0. 0.]\n",
            " [0. 0. 0. ... 0. 0. 0.]]\n"
          ],
          "name": "stdout"
        }
      ]
    },
    {
      "cell_type": "code",
      "metadata": {
        "colab": {
          "base_uri": "https://localhost:8080/"
        },
        "id": "Sb0LKm2nrXSM",
        "outputId": "5dca66bb-daeb-48ac-f749-13a1b9809c32"
      },
      "source": [
        "kernels=[1,2,3,4,5,6,7,8]\n",
        "Tacrcy=[];\n",
        "Vacrcy=[];\n",
        "e=10\n",
        "for l in kernels:\n",
        "     model=Sequential()\n",
        "     model.add(Conv2D(16,kernel_size=(5,5),input_shape=(28,28,1),activation='relu'))\n",
        "     model.add(MaxPooling2D(pool_size=(4,4),strides=(l,l),padding='valid'))\n",
        "     #for i in range(1,int(l)):\n",
        "      #    model.add(Conv2D(8,kernel_size=(3,3),input_shape=(28,28,1),activation='relu'))\n",
        "       #   model.add(MaxPooling2D(pool_size=(2,2),strides=None,padding='valid'))\n",
        "    # model.add(Dropout(0.5))\n",
        "     model.add(Flatten())\n",
        " \n",
        "     model.add(Dense(100,activation='relu',name='i/p-layer'))\n",
        "     model.add(Dense(47,activation='softmax',name='o/p-layer'))\n",
        " \n",
        "     model.compile(loss='categorical_crossentropy',optimizer='sgd',metrics=['accuracy'])\n",
        "     hit=model.fit(X_train,y_1hot,epochs=e,validation_split=0.33,batch_size=64,verbose=0)\n",
        "     k=hit.history\n",
        "     Tacrcy.append(k['accuracy'][e-1])\n",
        "     Vacrcy.append(k['val_accuracy'][e-1])\n",
        "     print(k['accuracy'][e-1])"
      ],
      "execution_count": null,
      "outputs": [
        {
          "output_type": "stream",
          "text": [
            "0.021422427147626877\n",
            "0.6353952884674072\n",
            "0.021462123841047287\n",
            "0.021051935851573944\n",
            "0.7038835883140564\n",
            "0.6879655718803406\n",
            "0.2304995059967041\n",
            "0.6383195519447327\n"
          ],
          "name": "stdout"
        }
      ]
    },
    {
      "cell_type": "code",
      "metadata": {
        "id": "4omYs6hfAWri",
        "colab": {
          "base_uri": "https://localhost:8080/",
          "height": 295
        },
        "outputId": "fa123a37-c8d4-4792-8f68-7e5f4107f3ba"
      },
      "source": [
        "k=[1,2,3,4,5,6,7,8]\n",
        "\n",
        "plt.figure(1)\n",
        "plt.plot(k,Tacrcy,color='g',marker='o',linestyle='dashed')\n",
        "plt.plot(k,Vacrcy,color='r',marker='o',linestyle='dashed')\n",
        "plt.xlabel('Strides')\n",
        "plt.ylabel('accuracy')\n",
        "plt.title('Effect of Strides')\n",
        "plt.legend(['Training','Validation'])\n",
        "plt.grid()\n",
        "\n"
      ],
      "execution_count": null,
      "outputs": [
        {
          "output_type": "display_data",
          "data": {
            "image/png": "[encoded data removed]",
            "text/plain": [
              "<Figure size 432x288 with 1 Axes>"
            ]
          },
          "metadata": {
            "tags": [],
            "needs_background": "light"
          }
        }
      ]
    }
  ]
}